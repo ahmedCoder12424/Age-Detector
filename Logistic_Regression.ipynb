{
 "cells": [
  {
   "cell_type": "code",
   "execution_count": 1,
   "id": "cd738f63-befc-4a94-9af6-9faad454c89b",
   "metadata": {},
   "outputs": [
    {
     "name": "stdout",
     "output_type": "stream",
     "text": [
      "Requirement already satisfied: torch in /Users/farhatahmed/.local/lib/python3.12/site-packages (2.6.0)\n",
      "Requirement already satisfied: filelock in /opt/anaconda3/lib/python3.12/site-packages (from torch) (3.13.1)\n",
      "Requirement already satisfied: typing-extensions>=4.10.0 in /opt/anaconda3/lib/python3.12/site-packages (from torch) (4.11.0)\n",
      "Requirement already satisfied: networkx in /opt/anaconda3/lib/python3.12/site-packages (from torch) (3.3)\n",
      "Requirement already satisfied: jinja2 in /opt/anaconda3/lib/python3.12/site-packages (from torch) (3.1.4)\n",
      "Requirement already satisfied: fsspec in /opt/anaconda3/lib/python3.12/site-packages (from torch) (2024.6.1)\n",
      "Requirement already satisfied: setuptools in /opt/anaconda3/lib/python3.12/site-packages (from torch) (75.1.0)\n",
      "Requirement already satisfied: sympy==1.13.1 in /Users/farhatahmed/.local/lib/python3.12/site-packages (from torch) (1.13.1)\n",
      "Requirement already satisfied: mpmath<1.4,>=1.1.0 in /opt/anaconda3/lib/python3.12/site-packages (from sympy==1.13.1->torch) (1.3.0)\n",
      "Requirement already satisfied: MarkupSafe>=2.0 in /opt/anaconda3/lib/python3.12/site-packages (from jinja2->torch) (2.1.3)\n",
      "Requirement already satisfied: torchvision in /Users/farhatahmed/.local/lib/python3.12/site-packages (0.21.0)\n",
      "Requirement already satisfied: numpy in /opt/anaconda3/lib/python3.12/site-packages (from torchvision) (1.26.4)\n",
      "Requirement already satisfied: torch==2.6.0 in /Users/farhatahmed/.local/lib/python3.12/site-packages (from torchvision) (2.6.0)\n",
      "Requirement already satisfied: pillow!=8.3.*,>=5.3.0 in /opt/anaconda3/lib/python3.12/site-packages (from torchvision) (10.4.0)\n",
      "Requirement already satisfied: filelock in /opt/anaconda3/lib/python3.12/site-packages (from torch==2.6.0->torchvision) (3.13.1)\n",
      "Requirement already satisfied: typing-extensions>=4.10.0 in /opt/anaconda3/lib/python3.12/site-packages (from torch==2.6.0->torchvision) (4.11.0)\n",
      "Requirement already satisfied: networkx in /opt/anaconda3/lib/python3.12/site-packages (from torch==2.6.0->torchvision) (3.3)\n",
      "Requirement already satisfied: jinja2 in /opt/anaconda3/lib/python3.12/site-packages (from torch==2.6.0->torchvision) (3.1.4)\n",
      "Requirement already satisfied: fsspec in /opt/anaconda3/lib/python3.12/site-packages (from torch==2.6.0->torchvision) (2024.6.1)\n",
      "Requirement already satisfied: setuptools in /opt/anaconda3/lib/python3.12/site-packages (from torch==2.6.0->torchvision) (75.1.0)\n",
      "Requirement already satisfied: sympy==1.13.1 in /Users/farhatahmed/.local/lib/python3.12/site-packages (from torch==2.6.0->torchvision) (1.13.1)\n",
      "Requirement already satisfied: mpmath<1.4,>=1.1.0 in /opt/anaconda3/lib/python3.12/site-packages (from sympy==1.13.1->torch==2.6.0->torchvision) (1.3.0)\n",
      "Requirement already satisfied: MarkupSafe>=2.0 in /opt/anaconda3/lib/python3.12/site-packages (from jinja2->torch==2.6.0->torchvision) (2.1.3)\n"
     ]
    }
   ],
   "source": [
    "!pip install torch\n",
    "!pip install torchvision\n",
    "import pandas as pd\n",
    "import torch\n",
    "import torch.nn as nn\n",
    "import torch.optim as optim\n",
    "from torch.utils.data import DataLoader\n",
    "from torch.utils.data import sampler\n",
    "\n",
    "import torchvision.datasets as dset\n",
    "import torchvision.transforms as T\n",
    "\n",
    "import numpy as np\n",
    "from torchvision import datasets, transforms\n",
    "import torch.nn.functional as F\n",
    "\n",
    "from AgeDatasetLoader import AgeDataset"
   ]
  },
  {
   "cell_type": "code",
   "execution_count": 2,
   "id": "95181e06-adb8-4fd1-8ec3-364521a905c8",
   "metadata": {},
   "outputs": [],
   "source": [
    "age_train = AgeDataset(\"age_data/age-train.csv\")\n",
    "loader_train = DataLoader(age_train, batch_size=32, shuffle=True, num_workers=2)\n",
    "\n",
    "age_val = AgeDataset(\"age_data/age-val.csv\")\n",
    "loader_val = DataLoader(age_val, batch_size=32, shuffle=True, num_workers=2)\n",
    "\n",
    "\n",
    "age_test = AgeDataset(\"age_data/age-test.csv\")\n",
    "loader_test = DataLoader(age_test, batch_size=32, shuffle=True, num_workers=2)"
   ]
  },
  {
   "cell_type": "code",
   "execution_count": 3,
   "id": "4199e840-fc40-40b3-87dd-816670078501",
   "metadata": {},
   "outputs": [],
   "source": [
    "class LogisticRegression(torch.nn.Module):    \n",
    "    # build the constructor\n",
    "    def __init__(self, n_inputs, n_outputs):\n",
    "        super(LogisticRegression, self).__init__()\n",
    "        self.linear = torch.nn.Linear(n_inputs, n_outputs)\n",
    "    # make predictions\n",
    "    def forward(self, x):\n",
    "        y_pred = self.linear(x)\n",
    "        return y_pred"
   ]
  },
  {
   "cell_type": "code",
   "execution_count": 4,
   "id": "6ed2bd90-4d88-41d4-bf65-e8d154486007",
   "metadata": {},
   "outputs": [],
   "source": [
    "# instantiate the model\n",
    "n_inputs = 48*48 # makes a 1D vector of 784\n",
    "n_outputs = 24\n",
    "log_regr = LogisticRegression(n_inputs, n_outputs)"
   ]
  },
  {
   "cell_type": "code",
   "execution_count": null,
   "id": "af2f74c4-74af-4adc-914b-c19f48f4ad18",
   "metadata": {},
   "outputs": [
    {
     "name": "stdout",
     "output_type": "stream",
     "text": [
      "Epoch: 0. Loss: 12098.3623046875. Accuracy: 0.12007874015748031\n",
      "Epoch: 1. Loss: 7805.19482421875. Accuracy: 0.09055118110236221\n",
      "Epoch: 2. Loss: 15475.5. Accuracy: 0.1906636670416198\n",
      "Epoch: 3. Loss: 10611.57421875. Accuracy: 0.23818897637795275\n",
      "Epoch: 4. Loss: 9498.486328125. Accuracy: 0.1982564679415073\n",
      "Epoch: 5. Loss: 5915.68994140625. Accuracy: 0.14595050618672667\n",
      "Epoch: 6. Loss: 3540.594482421875. Accuracy: 0.1782902137232846\n",
      "Epoch: 7. Loss: 10623.447265625. Accuracy: 0.18982002249718785\n",
      "Epoch: 8. Loss: 7307.83642578125. Accuracy: 0.14595050618672667\n",
      "Epoch: 9. Loss: 8403.095703125. Accuracy: 0.1279527559055118\n",
      "Epoch: 10. Loss: 7391.05224609375. Accuracy: 0.16141732283464566\n",
      "Epoch: 11. Loss: 4824.2705078125. Accuracy: 0.19516310461192352\n",
      "Epoch: 12. Loss: 3316.649169921875. Accuracy: 0.17997750281214847\n",
      "Epoch: 13. Loss: 7354.94287109375. Accuracy: 0.2907761529808774\n",
      "Epoch: 14. Loss: 4795.71240234375. Accuracy: 0.2013498312710911\n",
      "Epoch: 15. Loss: 9161.90234375. Accuracy: 0.16282339707536558\n",
      "Epoch: 16. Loss: 4179.67919921875. Accuracy: 0.21850393700787402\n",
      "Epoch: 17. Loss: 7978.20703125. Accuracy: 0.20866141732283464\n",
      "Epoch: 18. Loss: 5605.37109375. Accuracy: 0.17913385826771652\n",
      "Epoch: 19. Loss: 8166.94677734375. Accuracy: 0.29133858267716534\n",
      "Epoch: 20. Loss: 2983.71923828125. Accuracy: 0.18391451068616424\n",
      "Epoch: 21. Loss: 3817.791748046875. Accuracy: 0.2092238470191226\n",
      "Epoch: 22. Loss: 1624.49169921875. Accuracy: 0.26940382452193473\n",
      "Epoch: 23. Loss: 3815.216064453125. Accuracy: 0.1906636670416198\n",
      "Epoch: 24. Loss: 2441.846435546875. Accuracy: 0.20275590551181102\n",
      "Epoch: 25. Loss: 1869.56982421875. Accuracy: 0.2907761529808774\n",
      "Epoch: 26. Loss: 2821.846435546875. Accuracy: 0.2516872890888639\n",
      "Epoch: 27. Loss: 4219.314453125. Accuracy: 0.24156355455568054\n",
      "Epoch: 28. Loss: 2298.593017578125. Accuracy: 0.1487626546681665\n",
      "Epoch: 29. Loss: 6625.01953125. Accuracy: 0.187570303712036\n",
      "Epoch: 30. Loss: 4234.126953125. Accuracy: 0.28965129358830144\n",
      "Epoch: 31. Loss: 6008.6962890625. Accuracy: 0.21766029246344207\n",
      "Epoch: 32. Loss: 4265.6396484375. Accuracy: 0.18672665916760406\n",
      "Epoch: 33. Loss: 6516.6953125. Accuracy: 0.17266591676040494\n",
      "Epoch: 34. Loss: 6494.4580078125. Accuracy: 0.15832395950506187\n",
      "Epoch: 35. Loss: 2655.119140625. Accuracy: 0.21962879640044994\n",
      "Epoch: 36. Loss: 4514.060546875. Accuracy: 0.218785151856018\n",
      "Epoch: 37. Loss: 3452.254150390625. Accuracy: 0.20556805399325084\n",
      "Epoch: 38. Loss: 6514.13232421875. Accuracy: 0.18925759280089988\n",
      "Epoch: 39. Loss: 8113.96484375. Accuracy: 0.15916760404949382\n",
      "Epoch: 40. Loss: 7010.744140625. Accuracy: 0.1841957255343082\n",
      "Epoch: 41. Loss: 4947.61376953125. Accuracy: 0.20894263217097864\n",
      "Epoch: 42. Loss: 3565.410888671875. Accuracy: 0.22469066366704163\n",
      "Epoch: 43. Loss: 4184.439453125. Accuracy: 0.1923509561304837\n",
      "Epoch: 44. Loss: 7996.24267578125. Accuracy: 0.1656355455568054\n",
      "Epoch: 45. Loss: 5355.1318359375. Accuracy: 0.13807649043869516\n",
      "Epoch: 46. Loss: 3573.131591796875. Accuracy: 0.23622047244094488\n",
      "Epoch: 47. Loss: 6337.22705078125. Accuracy: 0.20528683914510687\n",
      "Epoch: 48. Loss: 5084.52197265625. Accuracy: 0.20725534308211474\n"
     ]
    }
   ],
   "source": [
    "# defining the optimizer\n",
    "optimizer = torch.optim.SGD(log_regr.parameters(), lr=0.001)\n",
    "# defining CrossaEntropy loss\n",
    "criterion = torch.nn.CrossEntropyLoss()\n",
    " \n",
    "epochs = 50\n",
    "Loss = []\n",
    "acc = []\n",
    "for epoch in range(epochs):\n",
    "    for i, (images, labels) in enumerate(loader_train):\n",
    "        optimizer.zero_grad()\n",
    "        outputs = log_regr(images.view(-1, 48*48))\n",
    "        loss = criterion(outputs, labels.argmax(dim=1))\n",
    "        #loss = criterion(outputs, labels)\n",
    "        # Loss.append(loss.item())\n",
    "        loss.backward()\n",
    "        optimizer.step()\n",
    "    Loss.append(loss.item())\n",
    "    correct = 0\n",
    "    total = 0\n",
    "    for images, labels in loader_test:\n",
    "        outputs = log_regr(images.view(-1, 48*48))\n",
    "        _, predicted = torch.max(outputs.data, 1)\n",
    "       # correct += (predicted == labels).sum()\n",
    "  \n",
    "        correct += (predicted == labels.argmax(dim=1)).sum().item() # Convert labels to indices\n",
    "        total += labels.size(0)\n",
    "    accuracy = (correct) / total\n",
    "    acc.append(accuracy)\n",
    "    print('Epoch: {}. Loss: {}. Accuracy: {}'.format(epoch, loss.item(), accuracy))"
   ]
  },
  {
   "cell_type": "code",
   "execution_count": null,
   "id": "d9268f3c-e2c4-4a5f-9ecf-feb8278c06f0",
   "metadata": {},
   "outputs": [],
   "source": [
    "for images, labels in loader_train:\n",
    "    print(images.shape, labels.shape)\n",
    "    break"
   ]
  },
  {
   "cell_type": "code",
   "execution_count": null,
   "id": "e90d0572-d70c-4557-bf9d-8b377c032133",
   "metadata": {},
   "outputs": [],
   "source": []
  },
  {
   "cell_type": "code",
   "execution_count": null,
   "id": "6851d2c7-f236-4dd3-b079-0a4cf2e52bee",
   "metadata": {},
   "outputs": [],
   "source": []
  },
  {
   "cell_type": "code",
   "execution_count": null,
   "id": "f5f0d15f-07c6-4aa0-bbff-f81f5f24cf5a",
   "metadata": {},
   "outputs": [],
   "source": []
  },
  {
   "cell_type": "code",
   "execution_count": null,
   "id": "5686c9f7-4ce6-4aab-80f5-bc116dc9707b",
   "metadata": {},
   "outputs": [],
   "source": []
  },
  {
   "cell_type": "code",
   "execution_count": null,
   "id": "b33293d9-67b0-4d01-acaf-05a40d9a5691",
   "metadata": {},
   "outputs": [],
   "source": []
  },
  {
   "cell_type": "code",
   "execution_count": null,
   "id": "d3383794-c4a9-434e-b0a7-b06c175bbe8c",
   "metadata": {},
   "outputs": [],
   "source": []
  }
 ],
 "metadata": {
  "kernelspec": {
   "display_name": "Python [conda env:base] *",
   "language": "python",
   "name": "conda-base-py"
  },
  "language_info": {
   "codemirror_mode": {
    "name": "ipython",
    "version": 3
   },
   "file_extension": ".py",
   "mimetype": "text/x-python",
   "name": "python",
   "nbconvert_exporter": "python",
   "pygments_lexer": "ipython3",
   "version": "3.12.7"
  }
 },
 "nbformat": 4,
 "nbformat_minor": 5
}
