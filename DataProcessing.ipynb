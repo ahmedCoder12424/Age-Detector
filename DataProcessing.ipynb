{
 "cells": [
  {
   "cell_type": "code",
   "execution_count": null,
   "id": "27256252-7f3c-4d29-bfa5-828360b363e3",
   "metadata": {},
   "outputs": [],
   "source": [
    "#test \n",
    "import os "
   ]
  }
 ],
 "metadata": {
  "kernelspec": {
   "display_name": "Python [conda env:base] *",
   "language": "python",
   "name": "conda-base-py"
  },
  "language_info": {
   "codemirror_mode": {
    "name": "ipython",
    "version": 3
   },
   "file_extension": ".py",
   "mimetype": "text/x-python",
   "name": "python",
   "nbconvert_exporter": "python",
   "pygments_lexer": "ipython3",
   "version": "3.12.7"
  }
 },
 "nbformat": 4,
 "nbformat_minor": 5
}
