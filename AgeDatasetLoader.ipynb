{
 "cells": [
  {
   "cell_type": "code",
   "execution_count": 3,
   "id": "f26f29a5-180d-4e2b-aa73-773835958066",
   "metadata": {},
   "outputs": [
    {
     "name": "stdout",
     "output_type": "stream",
     "text": [
      "Requirement already satisfied: torch in ./.local/lib/python3.12/site-packages (2.6.0)\n",
      "Requirement already satisfied: filelock in /opt/anaconda3/lib/python3.12/site-packages (from torch) (3.13.1)\n",
      "Requirement already satisfied: typing-extensions>=4.10.0 in /opt/anaconda3/lib/python3.12/site-packages (from torch) (4.11.0)\n",
      "Requirement already satisfied: networkx in /opt/anaconda3/lib/python3.12/site-packages (from torch) (3.3)\n",
      "Requirement already satisfied: jinja2 in /opt/anaconda3/lib/python3.12/site-packages (from torch) (3.1.4)\n",
      "Requirement already satisfied: fsspec in /opt/anaconda3/lib/python3.12/site-packages (from torch) (2024.6.1)\n",
      "Requirement already satisfied: setuptools in /opt/anaconda3/lib/python3.12/site-packages (from torch) (75.1.0)\n",
      "Requirement already satisfied: sympy==1.13.1 in ./.local/lib/python3.12/site-packages (from torch) (1.13.1)\n",
      "Requirement already satisfied: mpmath<1.4,>=1.1.0 in /opt/anaconda3/lib/python3.12/site-packages (from sympy==1.13.1->torch) (1.3.0)\n",
      "Requirement already satisfied: MarkupSafe>=2.0 in /opt/anaconda3/lib/python3.12/site-packages (from jinja2->torch) (2.1.3)\n",
      "Requirement already satisfied: torchvision in ./.local/lib/python3.12/site-packages (0.21.0)\n",
      "Requirement already satisfied: numpy in /opt/anaconda3/lib/python3.12/site-packages (from torchvision) (1.26.4)\n",
      "Requirement already satisfied: torch==2.6.0 in ./.local/lib/python3.12/site-packages (from torchvision) (2.6.0)\n",
      "Requirement already satisfied: pillow!=8.3.*,>=5.3.0 in /opt/anaconda3/lib/python3.12/site-packages (from torchvision) (10.4.0)\n",
      "Requirement already satisfied: filelock in /opt/anaconda3/lib/python3.12/site-packages (from torch==2.6.0->torchvision) (3.13.1)\n",
      "Requirement already satisfied: typing-extensions>=4.10.0 in /opt/anaconda3/lib/python3.12/site-packages (from torch==2.6.0->torchvision) (4.11.0)\n",
      "Requirement already satisfied: networkx in /opt/anaconda3/lib/python3.12/site-packages (from torch==2.6.0->torchvision) (3.3)\n",
      "Requirement already satisfied: jinja2 in /opt/anaconda3/lib/python3.12/site-packages (from torch==2.6.0->torchvision) (3.1.4)\n",
      "Requirement already satisfied: fsspec in /opt/anaconda3/lib/python3.12/site-packages (from torch==2.6.0->torchvision) (2024.6.1)\n",
      "Requirement already satisfied: setuptools in /opt/anaconda3/lib/python3.12/site-packages (from torch==2.6.0->torchvision) (75.1.0)\n",
      "Requirement already satisfied: sympy==1.13.1 in ./.local/lib/python3.12/site-packages (from torch==2.6.0->torchvision) (1.13.1)\n",
      "Requirement already satisfied: mpmath<1.4,>=1.1.0 in /opt/anaconda3/lib/python3.12/site-packages (from sympy==1.13.1->torch==2.6.0->torchvision) (1.3.0)\n",
      "Requirement already satisfied: MarkupSafe>=2.0 in /opt/anaconda3/lib/python3.12/site-packages (from jinja2->torch==2.6.0->torchvision) (2.1.3)\n"
     ]
    }
   ],
   "source": [
    "!pip install torch\n",
    "!pip install torchvision\n",
    "import pandas as pd\n",
    "import torch\n",
    "import torch.nn as nn\n",
    "import torch.optim as optim\n",
    "from torch.utils.data import DataLoader\n",
    "from torch.utils.data import sampler\n",
    "\n",
    "import torchvision.datasets as dset\n",
    "import torchvision.transforms as T\n",
    "\n",
    "import numpy as np\n",
    "from torchvision import datasets, transforms\n",
    "import torch.nn.functional as F"
   ]
  },
  {
   "cell_type": "code",
   "execution_count": 5,
   "id": "b210887d-9858-4b0b-a6ea-4e4221dfb82b",
   "metadata": {},
   "outputs": [],
   "source": [
    "class AgeDataset(torch.utils.data.Dataset):\n",
    "    def __init__(self, csv_file):\n",
    "        self.data = pd.read_csv(csv_file)\n",
    "        \n",
    "    def __len__(self):\n",
    "        return len(self.data)\n",
    "    \n",
    "    def __getitem__(self, idx):\n",
    "        # Assuming 'pixels' column contains space-separated pixel values as a string\n",
    "        pixel_str = self.data.iloc[idx][\"pixels\"]\n",
    "        pixels = np.array(pixel_str.split(), dtype=np.float32)  # Convert to NumPy array\n",
    "        pixels = torch.tensor(pixels).view(1, 48, 48)  # Reshape (assuming 48x48 image) #change if colored)\n",
    "        \n",
    "        # Assuming 'age' column contains the label\n",
    "\n",
    "        self.age_ranges = [\"0-4\", \"5-9\", \"10-14\", \"15-19\", \"20-24\", \"25-29\",\n",
    "                   \"30-34\", \"35-39\", \"40-44\", \"45-49\", \"50-54\", \"55-59\",\n",
    "                   \"60-64\", \"65-69\", \"70-74\", \"75-79\", \"80-84\", \"85-89\",\n",
    "                   \"90-94\", \"95-100\"]\n",
    "\n",
    "        # Create a dictionary to map each age range to an index\n",
    "        self.age_to_index = {age: i for i, age in enumerate(self.age_ranges)}\n",
    "        age_range = self.data.iloc[idx][\"label\"]  # Assume the column already contains age ranges\n",
    "        age_index = self.age_to_index[age_range]  # Get the index\n",
    "        age_onehot = F.one_hot(torch.tensor(age_index), num_classes=len(self.age_ranges)).float()\n",
    "        \n",
    "        return pixels, age_onehot"
   ]
  },
  {
   "cell_type": "code",
   "execution_count": null,
   "id": "cffeb381-9548-44f4-860f-3cf3f7f5dad7",
   "metadata": {},
   "outputs": [],
   "source": [
    "#Code for loading the datasets\n",
    "#age_train = AgeDataset(\"age-train.csv\")\n",
    "#loader_train = DataLoader(age_train, batch_size=32, shuffle=True, num_workers=2)\n",
    "\n",
    "#age_val = AgeDataset(\"age-val.csv\")\n",
    "#loader_val = DataLoader(age_val, batch_size=32, shuffle=True, num_workers=2)\n",
    "\n",
    "\n",
    "#age_test = AgeDataset(\"age-test.csv\")\n",
    "#loader_test = DataLoader(age_test, batch_size=32, shuffle=True, num_workers=2)\n",
    "\n"
   ]
  }
 ],
 "metadata": {
  "kernelspec": {
   "display_name": "Python [conda env:base] *",
   "language": "python",
   "name": "conda-base-py"
  },
  "language_info": {
   "codemirror_mode": {
    "name": "ipython",
    "version": 3
   },
   "file_extension": ".py",
   "mimetype": "text/x-python",
   "name": "python",
   "nbconvert_exporter": "python",
   "pygments_lexer": "ipython3",
   "version": "3.12.7"
  }
 },
 "nbformat": 4,
 "nbformat_minor": 5
}
